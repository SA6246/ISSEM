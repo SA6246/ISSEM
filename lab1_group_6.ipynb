{
 "cells": [
  {
   "cell_type": "markdown",
   "id": "6fca8337-4417-4a8e-a4ef-6f753eeabca6",
   "metadata": {},
   "source": [
    "# Lab1\n",
    "## Group 6: Steven Angulo, Christopher Garcia, Saibala Lakkaraju, Sreya Lyubarskiy"
   ]
  },
  {
   "cell_type": "code",
   "execution_count": 10,
   "id": "cda3caca-5b9d-4782-a733-34571dc422e4",
   "metadata": {
    "tags": []
   },
   "outputs": [
    {
     "name": "stdout",
     "output_type": "stream",
     "text": [
      "Group:6 Lab1 Course:ISSEM\n"
     ]
    }
   ],
   "source": [
    "Group = \"6\"\n",
    "Course = \"ISSEM\"\n",
    "Lab = \"Lab1\"\n",
    "print(\"Group:\"+ Group, Lab, \"Course:\"+ Course)"
   ]
  },
  {
   "cell_type": "code",
   "execution_count": 11,
   "id": "42b3215c-c088-4b7b-88b7-eb8875a1f311",
   "metadata": {
    "tags": []
   },
   "outputs": [
    {
     "name": "stdout",
     "output_type": "stream",
     "text": [
      "<class 'int'>\n",
      "<class 'str'>\n",
      "<class 'list'>\n"
     ]
    }
   ],
   "source": [
    "#Question 6:\n",
    "#data type - Integer\n",
    "X= 7\n",
    "#data type - String\n",
    "Y = 'ISSEM'\n",
    "#data type - List (array)\n",
    "Z = [\"red\", \"blue\", \"green\"]\n",
    "print(type(X))\n",
    "print(type(Y))\n",
    "print(type(Z))"
   ]
  },
  {
   "cell_type": "code",
   "execution_count": 12,
   "id": "d6de16cd-95e4-4665-8be3-c459ae0db07d",
   "metadata": {},
   "outputs": [
    {
     "name": "stdout",
     "output_type": "stream",
     "text": [
      "lazy dog brown fox jumps over the The quick\n"
     ]
    }
   ],
   "source": [
    "#Question 7:\n",
    "\n",
    "sr1=\"The quick brown fox jumps over the lazy dog\" #assigning string value to variable \"str\" *note this variable should not be used because it will overload python cast function str()\n",
    "arr = sr1.split(\" \") #Creates and assigns variable arr to a list with the words in the sentence above. The words are delimited by a whitespace results in. ['The', 'quick', 'brown', 'fox', 'jumps', 'over', 'the', 'lazy' 'dog']\n",
    "temp=[] #create an empty list.\n",
    "temp.append(arr[0]) #append to temp indice 0 from arr. appends \"The\". temp current value ['The']\n",
    "temp.append(arr[1]) #append to temp indice 1 from arr. appends \"quick\". temp current value['The', 'quick']\n",
    "arr[0]= arr[len(arr)-2] #arr index 0 assignment to the value at arr indice 7 (\"lazy\"). Len(arr)-2 returns 7 (9-2)\n",
    "arr[1]= arr[len(arr)-1] #arr index 1 assignment to the value at arr arr indice 8 (\"dog\"). Len(arr)-1 returns 8 (9-1)\n",
    "arr[len(arr)-2] = temp[0] #arr indice 7 is assigned to word in temp indice 0 ['The']\n",
    "arr[len(arr)-1] = temp[1] #arr indice 8 is assigned to word in temp indice 1 ['quick']\n",
    "sr1=' '.join(arr) #result ends up flipping the first two words and last two words in the original str sentence.\n",
    "print(sr1) #print out."
   ]
  },
  {
   "cell_type": "code",
   "execution_count": 13,
   "id": "696a6f3e-c9b0-46f6-a429-1190d4744380",
   "metadata": {
    "tags": []
   },
   "outputs": [],
   "source": [
    "#Question 8: Write the following function in the next cell\n",
    "def dummy(var):\n",
    "     x= str(var)\n",
    "     y=len(x)-1\n",
    "     z=''\n",
    "     while y >= 0:\n",
    "         z = z + x[y]\n",
    "         y -=1\n",
    "     return int(z)\n",
    "    #reverses the int passed into dummy()."
   ]
  },
  {
   "cell_type": "code",
   "execution_count": 14,
   "id": "c479a63c-f735-4ee3-9713-08daedfb0765",
   "metadata": {},
   "outputs": [
    {
     "name": "stdout",
     "output_type": "stream",
     "text": [
      "121\n",
      "321\n",
      "414\n",
      "668\n",
      "889\n",
      "101\n"
     ]
    }
   ],
   "source": [
    "#Question 9: In the next cell, use the above dummy function to check if below numbers are palindromes or not\n",
    "Values = [121, 123, 414, 866, 988, 101]\n",
    "for i in range(len(Values)):\n",
    "    print(dummy(Values[i]))"
   ]
  },
  {
   "cell_type": "code",
   "execution_count": 15,
   "id": "44b4fa2b-d659-47cf-842c-582145601251",
   "metadata": {},
   "outputs": [],
   "source": [
    "def palindrom(var): #quick palindrome check\n",
    "    return str(var) == str(var)[::-1]"
   ]
  },
  {
   "cell_type": "code",
   "execution_count": 19,
   "id": "07d6e69c-99cd-4972-bf3b-d3ab9b088ef8",
   "metadata": {},
   "outputs": [
    {
     "name": "stdout",
     "output_type": "stream",
     "text": [
      "121 is a palindrome?: True\n",
      "123 is a palindrome?: False\n",
      "414 is a palindrome?: True\n",
      "866 is a palindrome?: False\n",
      "988 is a palindrome?: False\n",
      "101 is a palindrome?: True\n"
     ]
    }
   ],
   "source": [
    "Values = [121, 123, 414, 866, 988, 101]\n",
    "for i in range(len(Values)):\n",
    "    print(str(Values[i]) + \" is a palindrome?: \"+ str(palindrom(Values[i])))"
   ]
  },
  {
   "cell_type": "code",
   "execution_count": 17,
   "id": "add28f24-1ae6-41d6-b135-f819ba997550",
   "metadata": {},
   "outputs": [],
   "source": [
    "def Calculate_Discount(price):\n",
    "    if price >= 500:\n",
    "        final_price = price * (70/100)\n",
    "    elif price >= 350 and price < 500:\n",
    "        final_price = price * (80/100)\n",
    "    elif price >= 150 and price < 350:\n",
    "        final_price = price * (90/100)\n",
    "    elif price >= 10 and price < 150:\n",
    "        final_price = price * (95/100)\n",
    "    elif price > 0 and price < 10:\n",
    "        final_price = price * (50/100)\n",
    "    else:\n",
    "        final_price = \"Price cannot be negative. Please enter a positive value.\"\n",
    "    return final_price"
   ]
  },
  {
   "cell_type": "code",
   "execution_count": 18,
   "id": "28268626-404b-4bab-9a22-69d5a480dff8",
   "metadata": {},
   "outputs": [
    {
     "name": "stdout",
     "output_type": "stream",
     "text": [
      "352.0\n",
      "238.5\n",
      "136.79999999999998\n",
      "Price cannot be negative. Please enter a positive value.\n",
      "4.5\n"
     ]
    }
   ],
   "source": [
    "Values = [440, 265, 144, -10, 9]\n",
    "for i in range(len(Values)):\n",
    "    print(Calculate_Discount(Values[i]))"
   ]
  },
  {
   "cell_type": "code",
   "execution_count": null,
   "id": "9b85ec98-bd4c-4440-8fab-98beab43f880",
   "metadata": {},
   "outputs": [],
   "source": []
  }
 ],
 "metadata": {
  "kernelspec": {
   "display_name": "Python 3 (ipykernel)",
   "language": "python",
   "name": "python3"
  },
  "language_info": {
   "codemirror_mode": {
    "name": "ipython",
    "version": 3
   },
   "file_extension": ".py",
   "mimetype": "text/x-python",
   "name": "python",
   "nbconvert_exporter": "python",
   "pygments_lexer": "ipython3",
   "version": "3.7.12"
  }
 },
 "nbformat": 4,
 "nbformat_minor": 5
}
